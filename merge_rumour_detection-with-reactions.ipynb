{
 "cells": [
  {
   "cell_type": "code",
   "execution_count": 1,
   "metadata": {},
   "outputs": [
    {
     "name": "stderr",
     "output_type": "stream",
     "text": [
      "/usr/local/lib/python3.5/dist-packages/h5py/__init__.py:36: FutureWarning: Conversion of the second argument of issubdtype from `float` to `np.floating` is deprecated. In future, it will be treated as `np.float64 == np.dtype(float).type`.\n",
      "  from ._conv import register_converters as _register_converters\n",
      "Using TensorFlow backend.\n"
     ]
    }
   ],
   "source": [
    "import json\n",
    "import os\n",
    "import pandas as pd\n",
    "from sklearn import preprocessing\n",
    "from sklearn.metrics import accuracy_score\n",
    "from sklearn.ensemble import RandomForestClassifier\n",
    "from sklearn.model_selection import train_test_split\n",
    "import keras\n",
    "from nltk.tokenize import RegexpTokenizer\n",
    "from nltk.corpus import stopwords\n",
    "\n",
    "from keras.layers import merge\n",
    "from keras.layers.core import *\n",
    "from keras.layers.recurrent import LSTM\n",
    "from keras.models import *\n",
    "\n",
    "import numpy\n",
    "from keras.datasets import imdb\n",
    "from keras.models import Sequential\n",
    "from keras.layers import Dense,Merge\n",
    "from keras.layers import LSTM\n",
    "from keras.layers.embeddings import Embedding\n",
    "from keras.preprocessing import sequence\n",
    "\n",
    "import gensim\n",
    "from gensim.scripts.glove2word2vec import glove2word2vec\n",
    "import gensim.models.keyedvectors as word2vec\n",
    "from gensim.models.keyedvectors import KeyedVectors"
   ]
  },
  {
   "cell_type": "code",
   "execution_count": 2,
   "metadata": {
    "collapsed": true
   },
   "outputs": [],
   "source": [
    "glove2word2vec(glove_input_file=\"glove.6B.50d.txt\", word2vec_output_file=\"gensim_glove_vectors.txt\")\n",
    "glove_model = KeyedVectors.load_word2vec_format(\"gensim_glove_vectors.txt\", binary=False)"
   ]
  },
  {
   "cell_type": "code",
   "execution_count": null,
   "metadata": {
    "collapsed": true
   },
   "outputs": [],
   "source": []
  },
  {
   "cell_type": "code",
   "execution_count": 3,
   "metadata": {
    "collapsed": true
   },
   "outputs": [],
   "source": [
    "def filter_sentence(text):\n",
    "    #tokenizer = RegexpTokenizer(r'\\w+')\n",
    "    tokenizer = RegexpTokenizer(r'[A-z]+')\n",
    "    stop_words = set(stopwords.words('english'))\n",
    "    word_tokens = [string.lower() for string in tokenizer.tokenize(text)]\n",
    "    #word_tokens = [w for w in word_tokens if not w in stop_words]\n",
    "    #word_tokens = [w for w in word_tokens if len(w)>2]\n",
    "    return word_tokens"
   ]
  },
  {
   "cell_type": "code",
   "execution_count": null,
   "metadata": {
    "collapsed": true
   },
   "outputs": [],
   "source": []
  },
  {
   "cell_type": "code",
   "execution_count": null,
   "metadata": {
    "collapsed": true
   },
   "outputs": [],
   "source": []
  },
  {
   "cell_type": "code",
   "execution_count": 4,
   "metadata": {
    "collapsed": true
   },
   "outputs": [],
   "source": [
    "def get_pd_frame_by_topics(topics):\n",
    "    folder_names = topics\n",
    "    \n",
    "\n",
    "    non_rumour_json_obj = []\n",
    "    non_rumour_json_obj_reactions = []\n",
    "    for name in folder_names:\n",
    "        non_rumours_paths = \"pheme-rnr-dataset/\"+name+\"/non-rumours/\"\n",
    "        non_rumours_path = [x for x in os.listdir(non_rumours_paths)]\n",
    "        for subfolder in non_rumours_path:\n",
    "            subfolder_path = non_rumours_paths + subfolder + \"/source-tweet/\"\n",
    "            json_files = [pos_json for pos_json in os.listdir(subfolder_path) if pos_json.endswith('.json')]\n",
    "            json_file = json_files[0]\n",
    "            json_file_path = subfolder_path + json_file\n",
    "            with open(json_file_path) as json_data:\n",
    "                d = json.load(json_data)\n",
    "                non_rumour_json_obj.append(d)\n",
    "            subfolder_path = non_rumours_paths + subfolder + \"/reactions/\"\n",
    "            json_files = [pos_json for pos_json in os.listdir(subfolder_path) if pos_json.endswith('.json')]\n",
    "            reactions = []\n",
    "            for json_file in json_files:\n",
    "                json_file_path = subfolder_path + json_file\n",
    "                with open(json_file_path) as json_data:\n",
    "                    d = json.load(json_data)\n",
    "                    reactions.append(d)\n",
    "            non_rumour_json_obj_reactions.append(reactions)\n",
    "    rumour_json_obj = []\n",
    "    rumour_json_obj_reactions = []\n",
    "    for name in folder_names:\n",
    "        rumours_paths = \"pheme-rnr-dataset/\"+name+\"/rumours/\"\n",
    "        rumours_path = [x for x in os.listdir(rumours_paths)]\n",
    "        for subfolder in rumours_path:\n",
    "            subfolder_path = rumours_paths + subfolder + \"/source-tweet/\"\n",
    "            json_files = [pos_json for pos_json in os.listdir(subfolder_path) if pos_json.endswith('.json')]\n",
    "            json_file = json_files[0]\n",
    "            json_file_path = subfolder_path + json_file\n",
    "            #print(json_file_path)\n",
    "            with open(json_file_path) as json_data:\n",
    "                d = json.load(json_data)\n",
    "                rumour_json_obj.append(d)\n",
    "            subfolder_path = rumours_paths + subfolder + \"/reactions/\"\n",
    "            json_files = [pos_json for pos_json in os.listdir(subfolder_path) if pos_json.endswith('.json')]\n",
    "            reactions = []\n",
    "            for json_file in json_files:\n",
    "                json_file_path = subfolder_path + json_file\n",
    "                with open(json_file_path) as json_data:\n",
    "                    d = json.load(json_data)\n",
    "                    reactions.append(d)\n",
    "            rumour_json_obj_reactions.append(reactions)\n",
    "\n",
    "    retweet_count = []\n",
    "    text = []\n",
    "    created = []\n",
    "    followers_count = []\n",
    "    verified = []\n",
    "    statuses_count = []\n",
    "    user_age = []\n",
    "    rumour = []\n",
    "    final_reactions = []\n",
    "    \n",
    "\n",
    "    for elem,react in zip(non_rumour_json_obj,non_rumour_json_obj_reactions):\n",
    "        retweet_count.append(elem['retweet_count'])\n",
    "        text.append(elem['text'])\n",
    "        created.append(elem['created_at'])\n",
    "        followers_count.append(elem['user']['followers_count'])\n",
    "        verified.append(elem['user']['verified'])\n",
    "        statuses_count.append(elem['user']['statuses_count'])\n",
    "        user_age.append(elem['user']['created_at'])\n",
    "        rumour.append('non_rumour')\n",
    "        concat_reactions = \"\"\n",
    "        if len(react)==0:\n",
    "            concat_reactions = 'default'\n",
    "        for r in react:\n",
    "            try:\n",
    "                concat_reactions = concat_reactions + r['text']\n",
    "            except:\n",
    "                try:\n",
    "                    for rx in r:\n",
    "                        concat_reactions = concat_reactions + rx['text']\n",
    "                except:\n",
    "                    print(len(rx))\n",
    "        final_reactions.append(concat_reactions)    \n",
    "    for elem,react in zip(rumour_json_obj,rumour_json_obj_reactions):\n",
    "        retweet_count.append(elem['retweet_count'])\n",
    "        text.append(elem['text'])\n",
    "        reactions.append(react)\n",
    "        created.append(elem['created_at'])\n",
    "        followers_count.append(elem['user']['followers_count'])\n",
    "        verified.append(elem['user']['verified'])\n",
    "        statuses_count.append(elem['user']['statuses_count'])\n",
    "        user_age.append(elem['user']['created_at'])\n",
    "        rumour.append('rumour')\n",
    "        concat_reactions = \"\"\n",
    "        if len(react)==0:\n",
    "            concat_reactions = 'default'\n",
    "        for r in react:\n",
    "            try:\n",
    "                concat_reactions = concat_reactions + r['text']\n",
    "            except:\n",
    "                try:\n",
    "                    for rx in r:\n",
    "                        concat_reactions = concat_reactions + rx['text']\n",
    "                except:\n",
    "                    print(rx)\n",
    "                #break\n",
    "            #print(react)\n",
    "        final_reactions.append(concat_reactions)    \n",
    "    df_temp = pd.DataFrame()\n",
    "    df = pd.DataFrame()\n",
    "\n",
    "    df_temp['retweet_count'] = retweet_count\n",
    "    df_temp['text'] = text\n",
    "    df_temp['created'] = created\n",
    "    df_temp['followers_count'] = followers_count\n",
    "    df_temp['verified'] = verified\n",
    "    df_temp['statuses_count'] = statuses_count\n",
    "    df_temp['user_age'] = user_age\n",
    "    df_temp['rumour'] = rumour\n",
    "    df_temp['reactions'] = final_reactions\n",
    "\n",
    "    #df.count()\n",
    "    #df_temp.to_csv('/home/dell/rumour.csv',sep=',')\n",
    "\n",
    "    temp = pd.to_datetime(df_temp.created, format='%a %b %d %H:%M:%S +0000 %Y')\n",
    "\n",
    "    df_temp = df_temp.sort_values(by='created')\n",
    "\n",
    "    le = preprocessing.LabelEncoder()\n",
    "    df_temp['verified_bool'] = le.fit_transform(df_temp['verified'])\n",
    "    df_temp['rumour_bool'] = le.fit_transform(df_temp['rumour'])\n",
    "    actual_labels = df_temp['rumour_bool']\n",
    "\n",
    "    df = df_temp[['retweet_count','followers_count','verified_bool','statuses_count']]\n",
    "    return df,df_temp"
   ]
  },
  {
   "cell_type": "code",
   "execution_count": 5,
   "metadata": {
    "collapsed": true
   },
   "outputs": [],
   "source": [
    "def convert_text_to_tokens(text,glove_model,max_length):\n",
    "    tokens = []\n",
    "    for t in text:\n",
    "        token_line = filter_sentence(t)\n",
    "        tokens.append(token_line)\n",
    "    word_features = []\n",
    "\n",
    "    not_found = 0\n",
    "    text_features = []\n",
    "    for token_line in tokens:\n",
    "        line = []\n",
    "        for token in token_line:\n",
    "                try: \n",
    "                    word_vector = glove_model.get_vector(token)\n",
    "                    line.append(word_vector)\n",
    "                except:\n",
    "                    not_found = not_found + 1\n",
    "        text_features.append(line)\n",
    "\n",
    "    # ##take average of features\n",
    "    # avg_text_features = []\n",
    "    # for lines in text_features:\n",
    "    #     avg = np.zeros(50)\n",
    "    #     count = 0\n",
    "    #     for line in lines:\n",
    "    #         avg = avg + line\n",
    "    #         count = count + 1\n",
    "    #     avg_text_features.append(avg)\n",
    "    # word_avg_features = np.array(avg_text_features)\n",
    "    # concat_features = np.concatenate((word_avg_features,df_text.as_matrix()),axis=1)\n",
    "\n",
    "    lengths = []\n",
    "    for line in text_features:\n",
    "        lengths.append(len(line))\n",
    "    print(max(lengths))\n",
    "\n",
    "\n",
    "    lengths = []\n",
    "    training_list_embedded = np.zeros(shape=(len(text_features),50,max_length))\n",
    "    for i in range(len(text_features)):\n",
    "        sentence = text_features[i]\n",
    "        length = len(sentence)\n",
    "        padded_sequence = []\n",
    "        j = 1\n",
    "\n",
    "        while(1):\n",
    "                #print(j)\n",
    "                if j>(max_length-length):\n",
    "                    break\n",
    "                padded_sequence.append(np.zeros(50))\n",
    "                j = j + 1\n",
    "        sentence = padded_sequence + sentence \n",
    "        training_list_embedded[i,:,:] = np.array(sentence).transpose()[:,:max_length]\n",
    "    return training_list_embedded"
   ]
  },
  {
   "cell_type": "code",
   "execution_count": 6,
   "metadata": {
    "collapsed": true
   },
   "outputs": [],
   "source": [
    "####LSTM approach\n",
    "def stacked_lstm(X_train,y_train,bsize,seq1_length,seq2_length):\n",
    "    length =int(len(X_train)/bsize)*bsize\n",
    "\n",
    "    # create the model\n",
    "    inp1 = Input(batch_shape=(bsize,50,seq1_length),name='input1')\n",
    "    input1 = Permute((2,1))(inp1)\n",
    "    m1 = LSTM(30,input_shape=(50,seq1_length),stateful=False,batch_size=bsize,name='model1',recurrent_dropout=0.55)(input1)\n",
    "    inp2 = Input(batch_shape=(bsize,50,seq2_length),name='input2')\n",
    "    input2 = Permute((2,1))(inp2)\n",
    "    m2 = LSTM(30,input_shape=(50,seq2_length),stateful=False,batch_size=bsize,name='model2',recurrent_dropout=0.55)(input2)\n",
    "    \n",
    "    merged = merge([m1, m2],mode='concat')\n",
    "    \n",
    "    merged = Dense(10)(merged)\n",
    "    reshaped2 = Dropout(0.55)(merged)\n",
    "    main_output = Dense(1, activation='sigmoid',name='main_output')(reshaped2)\n",
    "    model = Model(inputs=[inp1,inp2],outputs=[main_output])\n",
    "    model.compile(loss='binary_crossentropy', optimizer='adam', metrics=['accuracy'])\n",
    "    print(model.summary())\n",
    "    #model.fit([X_train[0:length]], np.array(y_train)[0:length], nb_epoch=40, batch_size=bsize)\n",
    "    return model"
   ]
  },
  {
   "cell_type": "code",
   "execution_count": null,
   "metadata": {
    "collapsed": true
   },
   "outputs": [],
   "source": []
  },
  {
   "cell_type": "code",
   "execution_count": 7,
   "metadata": {},
   "outputs": [
    {
     "name": "stdout",
     "output_type": "stream",
     "text": [
      "[{'text': '@TelegraphNews Extremism and Terrorism has no place in Islam #ParisAttack https://t.co/CukDPguk0U \\nhttp://t.co/0m0hV86weU', 'truncated': False, 'in_reply_to_screen_name': 'TelegraphNews', 'in_reply_to_user_id': 14138785, 'in_reply_to_user_id_str': '14138785', 'retweet_count': 0, 'created_at': 'Wed Jan 07 12:51:18 +0000 2015', 'geo': None, 'in_reply_to_status_id_str': '552805735885991936', 'favorited': False, 'entities': {'user_mentions': [{'screen_name': 'TelegraphNews', 'id_str': '14138785', 'indices': [0, 14], 'name': 'Telegraph News', 'id': 14138785}], 'hashtags': [{'text': 'ParisAttack', 'indices': [61, 73]}], 'urls': [{'display_url': 'youtube.com/watch?v=Q25dqD…', 'indices': [74, 97], 'url': 'https://t.co/CukDPguk0U', 'expanded_url': 'https://www.youtube.com/watch?v=Q25dqDgJwHU'}, {'display_url': 'minhajbooks.com/english/Downlo…', 'indices': [99, 121], 'url': 'http://t.co/0m0hV86weU', 'expanded_url': 'http://www.minhajbooks.com/english/Download/bid/384/Fatwa-Suicide-Bombing-and-Terrorism-French-by-Shaykh-ul-Islam-Dr-Muhammad-Tahir-ul-Qadri.html'}], 'symbols': []}, 'id_str': '552809704603537409', 'contributors': None, 'source': '<a href=\"http://twitter.com\" rel=\"nofollow\">Twitter Web Client</a>', 'favorite_count': 0, 'possibly_sensitive': False, 'place': None, 'in_reply_to_status_id': 552805735885991936, 'id': 552809704603537409, 'lang': 'en', 'user': {'verified': False, 'profile_background_color': 'ACDED6', 'profile_background_tile': False, 'profile_use_background_image': True, 'utc_offset': 18000, 'profile_link_color': '203EE6', 'listed_count': 5, 'created_at': 'Wed Aug 24 09:21:48 +0000 2011', 'geo_enabled': False, 'favourites_count': 633, 'name': 'Muhammad Kashif', 'profile_background_image_url_https': 'https://pbs.twimg.com/profile_background_images/378800000149394105/CLMKrU6u.jpeg', 'screen_name': 'umarenterprises', 'protected': False, 'contributors_enabled': False, 'url': None, 'profile_banner_url': 'https://pbs.twimg.com/profile_banners/361135947/1400027952', 'profile_sidebar_border_color': '000000', 'default_profile': False, 'id_str': '361135947', 'location': 'Pakistan', 'entities': {'description': {'urls': []}}, 'profile_image_url_https': 'https://pbs.twimg.com/profile_images/517971735266590720/9UuzKwxl_normal.jpeg', 'is_translation_enabled': False, 'friends_count': 827, 'profile_location': None, 'is_translator': False, 'profile_text_color': '3E4415', 'id': 361135947, 'notifications': False, 'following': False, 'profile_sidebar_fill_color': '99CC33', 'profile_background_image_url': 'http://pbs.twimg.com/profile_background_images/378800000149394105/CLMKrU6u.jpeg', 'lang': 'en', 'statuses_count': 37397, 'follow_request_sent': False, 'time_zone': 'Karachi', 'profile_image_url': 'http://pbs.twimg.com/profile_images/517971735266590720/9UuzKwxl_normal.jpeg', 'followers_count': 2192, 'default_profile_image': False, 'description': 'The revolution is not an apple that falls when it is ripe. You have to make it fall. Database Developer - Imports/Exports - Self Employed'}, 'retweeted': False, 'coordinates': None}]\n"
     ]
    }
   ],
   "source": [
    "folder_names = [\"charliehebdo\",\"ferguson\",\"germanwings-crash\",\"ottawashooting\",\"sydneysiege\"]\n",
    "df_features,df_text = get_pd_frame_by_topics(folder_names)"
   ]
  },
  {
   "cell_type": "code",
   "execution_count": 8,
   "metadata": {},
   "outputs": [
    {
     "name": "stdout",
     "output_type": "stream",
     "text": [
      "30\n",
      "374113\n"
     ]
    }
   ],
   "source": [
    "data_text = convert_text_to_tokens(df_text['text'],glove_model,20)\n",
    "reactions_data = convert_text_to_tokens(df_text['reactions'],glove_model,800)"
   ]
  },
  {
   "cell_type": "code",
   "execution_count": null,
   "metadata": {
    "collapsed": true
   },
   "outputs": [],
   "source": []
  },
  {
   "cell_type": "code",
   "execution_count": null,
   "metadata": {
    "collapsed": true
   },
   "outputs": [],
   "source": []
  },
  {
   "cell_type": "code",
   "execution_count": 9,
   "metadata": {},
   "outputs": [
    {
     "name": "stderr",
     "output_type": "stream",
     "text": [
      "/home/dell/.local/lib/python3.5/site-packages/ipykernel_launcher.py:13: UserWarning: The `merge` function is deprecated and will be removed after 08/2017. Use instead layers from `keras.layers.merge`, e.g. `add`, `concatenate`, etc.\n",
      "  del sys.path[0]\n",
      "/home/dell/.local/lib/python3.5/site-packages/keras/legacy/layers.py:464: UserWarning: The `Merge` layer is deprecated and will be removed after 08/2017. Use instead layers from `keras.layers.merge`, e.g. `add`, `concatenate`, etc.\n",
      "  name=name)\n",
      "/home/dell/.local/lib/python3.5/site-packages/ipykernel_launcher.py:8: UserWarning: The `nb_epoch` argument in `fit` has been renamed `epochs`.\n",
      "  \n"
     ]
    },
    {
     "name": "stdout",
     "output_type": "stream",
     "text": [
      "__________________________________________________________________________________________________\n",
      "Layer (type)                    Output Shape         Param #     Connected to                     \n",
      "==================================================================================================\n",
      "input1 (InputLayer)             (100, 50, 800)       0                                            \n",
      "__________________________________________________________________________________________________\n",
      "input2 (InputLayer)             (100, 50, 20)        0                                            \n",
      "__________________________________________________________________________________________________\n",
      "permute_1 (Permute)             (100, 800, 50)       0           input1[0][0]                     \n",
      "__________________________________________________________________________________________________\n",
      "permute_2 (Permute)             (100, 20, 50)        0           input2[0][0]                     \n",
      "__________________________________________________________________________________________________\n",
      "model1 (LSTM)                   (100, 30)            9720        permute_1[0][0]                  \n",
      "__________________________________________________________________________________________________\n",
      "model2 (LSTM)                   (100, 30)            9720        permute_2[0][0]                  \n",
      "__________________________________________________________________________________________________\n",
      "merge_1 (Merge)                 (100, 60)            0           model1[0][0]                     \n",
      "                                                                 model2[0][0]                     \n",
      "__________________________________________________________________________________________________\n",
      "dense_1 (Dense)                 (100, 10)            610         merge_1[0][0]                    \n",
      "__________________________________________________________________________________________________\n",
      "dropout_1 (Dropout)             (100, 10)            0           dense_1[0][0]                    \n",
      "__________________________________________________________________________________________________\n",
      "main_output (Dense)             (100, 1)             11          dropout_1[0][0]                  \n",
      "==================================================================================================\n",
      "Total params: 20,061\n",
      "Trainable params: 20,061\n",
      "Non-trainable params: 0\n",
      "__________________________________________________________________________________________________\n",
      "None\n",
      "Train on 3800 samples, validate on 1900 samples\n",
      "Epoch 1/15\n",
      "3800/3800 [==============================] - 34s 9ms/step - loss: 0.6740 - acc: 0.6013 - val_loss: 0.6182 - val_acc: 0.6879\n",
      "Epoch 2/15\n",
      "3800/3800 [==============================] - 29s 8ms/step - loss: 0.6224 - acc: 0.6642 - val_loss: 0.5634 - val_acc: 0.7226\n",
      "Epoch 3/15\n",
      "3800/3800 [==============================] - 30s 8ms/step - loss: 0.5729 - acc: 0.7042 - val_loss: 0.4789 - val_acc: 0.7621\n",
      "Epoch 4/15\n",
      "3800/3800 [==============================] - 30s 8ms/step - loss: 0.5377 - acc: 0.7261 - val_loss: 0.4702 - val_acc: 0.7611\n",
      "Epoch 5/15\n",
      "3800/3800 [==============================] - 31s 8ms/step - loss: 0.5181 - acc: 0.7432 - val_loss: 0.4720 - val_acc: 0.7637\n",
      "Epoch 6/15\n",
      "3800/3800 [==============================] - 30s 8ms/step - loss: 0.5024 - acc: 0.7550 - val_loss: 0.4511 - val_acc: 0.7858\n",
      "Epoch 7/15\n",
      "3800/3800 [==============================] - 28s 7ms/step - loss: 0.4872 - acc: 0.7584 - val_loss: 0.4527 - val_acc: 0.7779\n",
      "Epoch 8/15\n",
      "3800/3800 [==============================] - 29s 8ms/step - loss: 0.4761 - acc: 0.7734 - val_loss: 0.4676 - val_acc: 0.7747\n",
      "Epoch 9/15\n",
      "3800/3800 [==============================] - 29s 8ms/step - loss: 0.4707 - acc: 0.7753 - val_loss: 0.4685 - val_acc: 0.7737\n",
      "Epoch 10/15\n",
      "3800/3800 [==============================] - 29s 8ms/step - loss: 0.4565 - acc: 0.7887 - val_loss: 0.4890 - val_acc: 0.7626\n",
      "Epoch 11/15\n",
      "3800/3800 [==============================] - 28s 7ms/step - loss: 0.4452 - acc: 0.7997 - val_loss: 0.4823 - val_acc: 0.7700\n",
      "Epoch 12/15\n",
      "3800/3800 [==============================] - 28s 7ms/step - loss: 0.4387 - acc: 0.8029 - val_loss: 0.4957 - val_acc: 0.7658\n",
      "Epoch 13/15\n",
      "3800/3800 [==============================] - 28s 7ms/step - loss: 0.4310 - acc: 0.8008 - val_loss: 0.4887 - val_acc: 0.7584\n",
      "Epoch 14/15\n",
      "3800/3800 [==============================] - 29s 8ms/step - loss: 0.4174 - acc: 0.8113 - val_loss: 0.5154 - val_acc: 0.7542\n",
      "Epoch 15/15\n",
      "3800/3800 [==============================] - 29s 8ms/step - loss: 0.4164 - acc: 0.8097 - val_loss: 0.4768 - val_acc: 0.7679\n"
     ]
    }
   ],
   "source": [
    "labels = df_text['rumour_bool']\n",
    "X_train, X_test, y_train, y_test = train_test_split(data_text, labels, test_size=0.33, random_state=42,shuffle = False)\n",
    "X_train_reactions, X_test_reactions, _, _ = train_test_split(reactions_data, labels, test_size=0.33, random_state=42,shuffle = False)\n",
    "bsize = 100\n",
    "model = stacked_lstm(X_train,y_train,bsize,800,20)\n",
    "length_train =int(len(X_train)/bsize)*bsize\n",
    "length_test =int(len(X_test)/bsize)*bsize\n",
    "history = model.fit([X_train_reactions[0:length_train],X_train[0:length_train]], np.array(y_train)[0:length_train], nb_epoch=15, batch_size=bsize,validation_data=([X_test_reactions[0:length_test],X_test[0:length_test]],y_test[0:length_test]))\n",
    "import pickle\n",
    "f = open('stacked_lstm.pckl', 'wb')\n",
    "pickle.dump(history.history, f)\n",
    "f.close()"
   ]
  },
  {
   "cell_type": "code",
   "execution_count": 10,
   "metadata": {},
   "outputs": [
    {
     "data": {
      "text/plain": [
       "['loss', 'acc']"
      ]
     },
     "execution_count": 10,
     "metadata": {},
     "output_type": "execute_result"
    }
   ],
   "source": [
    "model.metrics_names"
   ]
  },
  {
   "cell_type": "code",
   "execution_count": 11,
   "metadata": {},
   "outputs": [
    {
     "name": "stdout",
     "output_type": "stream",
     "text": [
      "1900/1900 [==============================] - 4s 2ms/step\n"
     ]
    },
    {
     "data": {
      "text/plain": [
       "[0.4768373197630832, 0.7678947385988737]"
      ]
     },
     "execution_count": 11,
     "metadata": {},
     "output_type": "execute_result"
    }
   ],
   "source": [
    "model.evaluate([X_test_reactions[0:length_test],X_test[0:length_test]],y_test[0:length_test],batch_size=bsize)"
   ]
  },
  {
   "cell_type": "code",
   "execution_count": 14,
   "metadata": {},
   "outputs": [
    {
     "name": "stderr",
     "output_type": "stream",
     "text": [
      "/home/dell/.local/lib/python3.5/site-packages/ipykernel_launcher.py:13: UserWarning: The `merge` function is deprecated and will be removed after 08/2017. Use instead layers from `keras.layers.merge`, e.g. `add`, `concatenate`, etc.\n",
      "  del sys.path[0]\n",
      "/home/dell/.local/lib/python3.5/site-packages/keras/legacy/layers.py:464: UserWarning: The `Merge` layer is deprecated and will be removed after 08/2017. Use instead layers from `keras.layers.merge`, e.g. `add`, `concatenate`, etc.\n",
      "  name=name)\n",
      "/home/dell/.local/lib/python3.5/site-packages/ipykernel_launcher.py:12: UserWarning: The `nb_epoch` argument in `fit` has been renamed `epochs`.\n",
      "  if sys.path[0] == '':\n"
     ]
    },
    {
     "name": "stdout",
     "output_type": "stream",
     "text": [
      "__________________________________________________________________________________________________\n",
      "Layer (type)                    Output Shape         Param #     Connected to                     \n",
      "==================================================================================================\n",
      "input1 (InputLayer)             (100, 50, 800)       0                                            \n",
      "__________________________________________________________________________________________________\n",
      "input2 (InputLayer)             (100, 50, 20)        0                                            \n",
      "__________________________________________________________________________________________________\n",
      "permute_7 (Permute)             (100, 800, 50)       0           input1[0][0]                     \n",
      "__________________________________________________________________________________________________\n",
      "permute_8 (Permute)             (100, 20, 50)        0           input2[0][0]                     \n",
      "__________________________________________________________________________________________________\n",
      "model1 (LSTM)                   (100, 30)            9720        permute_7[0][0]                  \n",
      "__________________________________________________________________________________________________\n",
      "model2 (LSTM)                   (100, 30)            9720        permute_8[0][0]                  \n",
      "__________________________________________________________________________________________________\n",
      "merge_4 (Merge)                 (100, 60)            0           model1[0][0]                     \n",
      "                                                                 model2[0][0]                     \n",
      "__________________________________________________________________________________________________\n",
      "dense_4 (Dense)                 (100, 10)            610         merge_4[0][0]                    \n",
      "__________________________________________________________________________________________________\n",
      "dropout_4 (Dropout)             (100, 10)            0           dense_4[0][0]                    \n",
      "__________________________________________________________________________________________________\n",
      "main_output (Dense)             (100, 1)             11          dropout_4[0][0]                  \n",
      "==================================================================================================\n",
      "Total params: 20,061\n",
      "Trainable params: 20,061\n",
      "Non-trainable params: 0\n",
      "__________________________________________________________________________________________________\n",
      "None\n",
      "Epoch 1/15\n",
      "3800/3800 [==============================] - 27s 7ms/step - loss: 0.6546 - acc: 0.6342\n",
      "Epoch 2/15\n",
      "3800/3800 [==============================] - 26s 7ms/step - loss: 0.6042 - acc: 0.6747\n",
      "Epoch 3/15\n",
      "3800/3800 [==============================] - 26s 7ms/step - loss: 0.5494 - acc: 0.7200\n",
      "Epoch 4/15\n",
      "3800/3800 [==============================] - 27s 7ms/step - loss: 0.5293 - acc: 0.7221\n",
      "Epoch 5/15\n",
      "3800/3800 [==============================] - 26s 7ms/step - loss: 0.5072 - acc: 0.7513\n",
      "Epoch 6/15\n",
      "3800/3800 [==============================] - 26s 7ms/step - loss: 0.4998 - acc: 0.7534\n",
      "Epoch 7/15\n",
      "3800/3800 [==============================] - 25s 6ms/step - loss: 0.4827 - acc: 0.7687\n",
      "Epoch 8/15\n",
      "3800/3800 [==============================] - 26s 7ms/step - loss: 0.4809 - acc: 0.7700\n",
      "Epoch 9/15\n",
      "3800/3800 [==============================] - 26s 7ms/step - loss: 0.4624 - acc: 0.7774\n",
      "Epoch 10/15\n",
      "3800/3800 [==============================] - 26s 7ms/step - loss: 0.4522 - acc: 0.7779\n",
      "Epoch 11/15\n",
      "3800/3800 [==============================] - 26s 7ms/step - loss: 0.4484 - acc: 0.7939\n",
      "Epoch 12/15\n",
      "3800/3800 [==============================] - 26s 7ms/step - loss: 0.4369 - acc: 0.7963\n",
      "Epoch 13/15\n",
      "3800/3800 [==============================] - 27s 7ms/step - loss: 0.4314 - acc: 0.8045\n",
      "Epoch 14/15\n",
      "3800/3800 [==============================] - 26s 7ms/step - loss: 0.4222 - acc: 0.8105\n",
      "Epoch 15/15\n",
      "3800/3800 [==============================] - 26s 7ms/step - loss: 0.4131 - acc: 0.8092\n",
      "1900/1900 [==============================] - 4s 2ms/step\n",
      "__________________________________________________________________________________________________\n",
      "Layer (type)                    Output Shape         Param #     Connected to                     \n",
      "==================================================================================================\n",
      "input1 (InputLayer)             (100, 50, 800)       0                                            \n",
      "__________________________________________________________________________________________________\n",
      "input2 (InputLayer)             (100, 50, 20)        0                                            \n",
      "__________________________________________________________________________________________________\n",
      "permute_9 (Permute)             (100, 800, 50)       0           input1[0][0]                     \n",
      "__________________________________________________________________________________________________\n",
      "permute_10 (Permute)            (100, 20, 50)        0           input2[0][0]                     \n",
      "__________________________________________________________________________________________________\n",
      "model1 (LSTM)                   (100, 30)            9720        permute_9[0][0]                  \n",
      "__________________________________________________________________________________________________\n",
      "model2 (LSTM)                   (100, 30)            9720        permute_10[0][0]                 \n",
      "__________________________________________________________________________________________________\n",
      "merge_5 (Merge)                 (100, 60)            0           model1[0][0]                     \n",
      "                                                                 model2[0][0]                     \n",
      "__________________________________________________________________________________________________\n",
      "dense_5 (Dense)                 (100, 10)            610         merge_5[0][0]                    \n",
      "__________________________________________________________________________________________________\n",
      "dropout_5 (Dropout)             (100, 10)            0           dense_5[0][0]                    \n",
      "__________________________________________________________________________________________________\n",
      "main_output (Dense)             (100, 1)             11          dropout_5[0][0]                  \n",
      "==================================================================================================\n",
      "Total params: 20,061\n",
      "Trainable params: 20,061\n",
      "Non-trainable params: 0\n",
      "__________________________________________________________________________________________________\n",
      "None\n",
      "Epoch 1/15\n",
      "3800/3800 [==============================] - 27s 7ms/step - loss: 0.6724 - acc: 0.6103\n",
      "Epoch 2/15\n",
      "3800/3800 [==============================] - 25s 7ms/step - loss: 0.6316 - acc: 0.6584\n",
      "Epoch 3/15\n",
      "3800/3800 [==============================] - 25s 7ms/step - loss: 0.5750 - acc: 0.6982\n",
      "Epoch 4/15\n",
      "3800/3800 [==============================] - 25s 7ms/step - loss: 0.5423 - acc: 0.7284\n",
      "Epoch 5/15\n",
      "3800/3800 [==============================] - 25s 7ms/step - loss: 0.5159 - acc: 0.7405\n",
      "Epoch 6/15\n",
      "3800/3800 [==============================] - 25s 7ms/step - loss: 0.4957 - acc: 0.7558\n",
      "Epoch 7/15\n",
      "3800/3800 [==============================] - 26s 7ms/step - loss: 0.4937 - acc: 0.7668\n",
      "Epoch 8/15\n",
      "3800/3800 [==============================] - 26s 7ms/step - loss: 0.4733 - acc: 0.7774\n",
      "Epoch 9/15\n",
      "3800/3800 [==============================] - 26s 7ms/step - loss: 0.4628 - acc: 0.7837\n",
      "Epoch 10/15\n",
      "3800/3800 [==============================] - 25s 7ms/step - loss: 0.4443 - acc: 0.7900\n",
      "Epoch 11/15\n",
      "3800/3800 [==============================] - 25s 7ms/step - loss: 0.4351 - acc: 0.7995\n",
      "Epoch 12/15\n",
      "3800/3800 [==============================] - 26s 7ms/step - loss: 0.4268 - acc: 0.8082\n",
      "Epoch 13/15\n",
      "3800/3800 [==============================] - 26s 7ms/step - loss: 0.4265 - acc: 0.8076\n",
      "Epoch 14/15\n",
      "3800/3800 [==============================] - 25s 7ms/step - loss: 0.4044 - acc: 0.8153\n",
      "Epoch 15/15\n",
      "3800/3800 [==============================] - 25s 7ms/step - loss: 0.3992 - acc: 0.8208\n",
      "1900/1900 [==============================] - 4s 2ms/step\n",
      "__________________________________________________________________________________________________\n",
      "Layer (type)                    Output Shape         Param #     Connected to                     \n",
      "==================================================================================================\n",
      "input1 (InputLayer)             (100, 50, 800)       0                                            \n",
      "__________________________________________________________________________________________________\n",
      "input2 (InputLayer)             (100, 50, 20)        0                                            \n",
      "__________________________________________________________________________________________________\n",
      "permute_11 (Permute)            (100, 800, 50)       0           input1[0][0]                     \n",
      "__________________________________________________________________________________________________\n",
      "permute_12 (Permute)            (100, 20, 50)        0           input2[0][0]                     \n",
      "__________________________________________________________________________________________________\n",
      "model1 (LSTM)                   (100, 30)            9720        permute_11[0][0]                 \n",
      "__________________________________________________________________________________________________\n",
      "model2 (LSTM)                   (100, 30)            9720        permute_12[0][0]                 \n",
      "__________________________________________________________________________________________________\n",
      "merge_6 (Merge)                 (100, 60)            0           model1[0][0]                     \n",
      "                                                                 model2[0][0]                     \n",
      "__________________________________________________________________________________________________\n",
      "dense_6 (Dense)                 (100, 10)            610         merge_6[0][0]                    \n",
      "__________________________________________________________________________________________________\n",
      "dropout_6 (Dropout)             (100, 10)            0           dense_6[0][0]                    \n",
      "__________________________________________________________________________________________________\n",
      "main_output (Dense)             (100, 1)             11          dropout_6[0][0]                  \n",
      "==================================================================================================\n",
      "Total params: 20,061\n",
      "Trainable params: 20,061\n",
      "Non-trainable params: 0\n",
      "__________________________________________________________________________________________________\n",
      "None\n"
     ]
    },
    {
     "name": "stdout",
     "output_type": "stream",
     "text": [
      "Epoch 1/15\n",
      "3800/3800 [==============================] - 27s 7ms/step - loss: 0.6675 - acc: 0.6118\n",
      "Epoch 2/15\n",
      "3800/3800 [==============================] - 26s 7ms/step - loss: 0.6148 - acc: 0.6711\n",
      "Epoch 3/15\n",
      "3800/3800 [==============================] - 26s 7ms/step - loss: 0.5615 - acc: 0.7203\n",
      "Epoch 4/15\n",
      "3800/3800 [==============================] - 26s 7ms/step - loss: 0.5379 - acc: 0.7363\n",
      "Epoch 5/15\n",
      "3800/3800 [==============================] - 25s 7ms/step - loss: 0.5192 - acc: 0.7492\n",
      "Epoch 6/15\n",
      "3800/3800 [==============================] - 26s 7ms/step - loss: 0.4931 - acc: 0.7629\n",
      "Epoch 7/15\n",
      "3800/3800 [==============================] - 25s 7ms/step - loss: 0.4860 - acc: 0.7679\n",
      "Epoch 8/15\n",
      "3800/3800 [==============================] - 26s 7ms/step - loss: 0.4795 - acc: 0.7737\n",
      "Epoch 9/15\n",
      "3800/3800 [==============================] - 25s 7ms/step - loss: 0.4640 - acc: 0.7811\n",
      "Epoch 10/15\n",
      "3800/3800 [==============================] - 26s 7ms/step - loss: 0.4572 - acc: 0.7926\n",
      "Epoch 11/15\n",
      "3800/3800 [==============================] - 25s 7ms/step - loss: 0.4541 - acc: 0.7903\n",
      "Epoch 12/15\n",
      "3800/3800 [==============================] - 26s 7ms/step - loss: 0.4435 - acc: 0.7924\n",
      "Epoch 13/15\n",
      "3800/3800 [==============================] - 25s 7ms/step - loss: 0.4297 - acc: 0.8016\n",
      "Epoch 14/15\n",
      "3800/3800 [==============================] - 25s 6ms/step - loss: 0.4197 - acc: 0.8063\n",
      "Epoch 15/15\n",
      "3800/3800 [==============================] - 26s 7ms/step - loss: 0.4164 - acc: 0.8124\n",
      "1900/1900 [==============================] - 4s 2ms/step\n",
      "__________________________________________________________________________________________________\n",
      "Layer (type)                    Output Shape         Param #     Connected to                     \n",
      "==================================================================================================\n",
      "input1 (InputLayer)             (100, 50, 800)       0                                            \n",
      "__________________________________________________________________________________________________\n",
      "input2 (InputLayer)             (100, 50, 20)        0                                            \n",
      "__________________________________________________________________________________________________\n",
      "permute_13 (Permute)            (100, 800, 50)       0           input1[0][0]                     \n",
      "__________________________________________________________________________________________________\n",
      "permute_14 (Permute)            (100, 20, 50)        0           input2[0][0]                     \n",
      "__________________________________________________________________________________________________\n",
      "model1 (LSTM)                   (100, 30)            9720        permute_13[0][0]                 \n",
      "__________________________________________________________________________________________________\n",
      "model2 (LSTM)                   (100, 30)            9720        permute_14[0][0]                 \n",
      "__________________________________________________________________________________________________\n",
      "merge_7 (Merge)                 (100, 60)            0           model1[0][0]                     \n",
      "                                                                 model2[0][0]                     \n",
      "__________________________________________________________________________________________________\n",
      "dense_7 (Dense)                 (100, 10)            610         merge_7[0][0]                    \n",
      "__________________________________________________________________________________________________\n",
      "dropout_7 (Dropout)             (100, 10)            0           dense_7[0][0]                    \n",
      "__________________________________________________________________________________________________\n",
      "main_output (Dense)             (100, 1)             11          dropout_7[0][0]                  \n",
      "==================================================================================================\n",
      "Total params: 20,061\n",
      "Trainable params: 20,061\n",
      "Non-trainable params: 0\n",
      "__________________________________________________________________________________________________\n",
      "None\n",
      "Epoch 1/15\n",
      "3800/3800 [==============================] - 27s 7ms/step - loss: 0.6880 - acc: 0.5971\n",
      "Epoch 2/15\n",
      "3800/3800 [==============================] - 25s 7ms/step - loss: 0.6267 - acc: 0.6587\n",
      "Epoch 3/15\n",
      "3800/3800 [==============================] - 26s 7ms/step - loss: 0.5634 - acc: 0.7153\n",
      "Epoch 4/15\n",
      "3800/3800 [==============================] - 26s 7ms/step - loss: 0.5392 - acc: 0.7400\n",
      "Epoch 5/15\n",
      "3800/3800 [==============================] - 26s 7ms/step - loss: 0.5137 - acc: 0.7516\n",
      "Epoch 6/15\n",
      "3800/3800 [==============================] - 26s 7ms/step - loss: 0.4935 - acc: 0.7600\n",
      "Epoch 7/15\n",
      "3800/3800 [==============================] - 25s 7ms/step - loss: 0.4841 - acc: 0.7666\n",
      "Epoch 8/15\n",
      "3800/3800 [==============================] - 27s 7ms/step - loss: 0.4738 - acc: 0.7816\n",
      "Epoch 9/15\n",
      "3800/3800 [==============================] - 27s 7ms/step - loss: 0.4520 - acc: 0.7845\n",
      "Epoch 10/15\n",
      "3800/3800 [==============================] - 26s 7ms/step - loss: 0.4587 - acc: 0.7932\n",
      "Epoch 11/15\n",
      "3800/3800 [==============================] - 27s 7ms/step - loss: 0.4438 - acc: 0.7955\n",
      "Epoch 12/15\n",
      "3800/3800 [==============================] - 27s 7ms/step - loss: 0.4315 - acc: 0.8058\n",
      "Epoch 13/15\n",
      "3800/3800 [==============================] - 27s 7ms/step - loss: 0.4214 - acc: 0.8105\n",
      "Epoch 14/15\n",
      "3800/3800 [==============================] - 26s 7ms/step - loss: 0.4139 - acc: 0.8166\n",
      "Epoch 15/15\n",
      "3800/3800 [==============================] - 27s 7ms/step - loss: 0.4089 - acc: 0.8195\n",
      "1900/1900 [==============================] - 4s 2ms/step\n",
      "__________________________________________________________________________________________________\n",
      "Layer (type)                    Output Shape         Param #     Connected to                     \n",
      "==================================================================================================\n",
      "input1 (InputLayer)             (100, 50, 800)       0                                            \n",
      "__________________________________________________________________________________________________\n",
      "input2 (InputLayer)             (100, 50, 20)        0                                            \n",
      "__________________________________________________________________________________________________\n",
      "permute_15 (Permute)            (100, 800, 50)       0           input1[0][0]                     \n",
      "__________________________________________________________________________________________________\n",
      "permute_16 (Permute)            (100, 20, 50)        0           input2[0][0]                     \n",
      "__________________________________________________________________________________________________\n",
      "model1 (LSTM)                   (100, 30)            9720        permute_15[0][0]                 \n",
      "__________________________________________________________________________________________________\n",
      "model2 (LSTM)                   (100, 30)            9720        permute_16[0][0]                 \n",
      "__________________________________________________________________________________________________\n",
      "merge_8 (Merge)                 (100, 60)            0           model1[0][0]                     \n",
      "                                                                 model2[0][0]                     \n",
      "__________________________________________________________________________________________________\n",
      "dense_8 (Dense)                 (100, 10)            610         merge_8[0][0]                    \n",
      "__________________________________________________________________________________________________\n",
      "dropout_8 (Dropout)             (100, 10)            0           dense_8[0][0]                    \n",
      "__________________________________________________________________________________________________\n",
      "main_output (Dense)             (100, 1)             11          dropout_8[0][0]                  \n",
      "==================================================================================================\n",
      "Total params: 20,061\n",
      "Trainable params: 20,061\n",
      "Non-trainable params: 0\n",
      "__________________________________________________________________________________________________\n",
      "None\n",
      "Epoch 1/15\n",
      "3800/3800 [==============================] - 27s 7ms/step - loss: 0.6556 - acc: 0.6282\n",
      "Epoch 2/15\n",
      "3800/3800 [==============================] - 26s 7ms/step - loss: 0.5976 - acc: 0.6834\n",
      "Epoch 3/15\n",
      "3800/3800 [==============================] - 27s 7ms/step - loss: 0.5563 - acc: 0.7179\n",
      "Epoch 4/15\n",
      "3800/3800 [==============================] - 27s 7ms/step - loss: 0.5266 - acc: 0.7439\n",
      "Epoch 5/15\n",
      "3800/3800 [==============================] - 27s 7ms/step - loss: 0.4952 - acc: 0.7689\n",
      "Epoch 6/15\n",
      "3800/3800 [==============================] - 26s 7ms/step - loss: 0.4897 - acc: 0.7611\n",
      "Epoch 7/15\n",
      "3800/3800 [==============================] - 26s 7ms/step - loss: 0.4808 - acc: 0.7734\n",
      "Epoch 8/15\n",
      "3800/3800 [==============================] - 27s 7ms/step - loss: 0.4677 - acc: 0.7787\n",
      "Epoch 9/15\n",
      "3800/3800 [==============================] - 27s 7ms/step - loss: 0.4604 - acc: 0.7866\n",
      "Epoch 10/15\n",
      "3800/3800 [==============================] - 26s 7ms/step - loss: 0.4528 - acc: 0.7937\n",
      "Epoch 11/15\n",
      "3800/3800 [==============================] - 25s 7ms/step - loss: 0.4333 - acc: 0.7995\n",
      "Epoch 12/15\n",
      "3800/3800 [==============================] - 24s 6ms/step - loss: 0.4320 - acc: 0.8008\n",
      "Epoch 13/15\n",
      "3800/3800 [==============================] - 25s 7ms/step - loss: 0.4242 - acc: 0.8074\n",
      "Epoch 14/15\n",
      "3800/3800 [==============================] - 26s 7ms/step - loss: 0.4246 - acc: 0.8076\n",
      "Epoch 15/15\n",
      "3800/3800 [==============================] - 25s 6ms/step - loss: 0.4108 - acc: 0.8192\n",
      "1900/1900 [==============================] - 4s 2ms/step\n"
     ]
    }
   ],
   "source": [
    "accuracies = []\n",
    "K = 5\n",
    "for i in range(K):\n",
    "    labels = df_text['rumour_bool']\n",
    "    num = np.random.randint(10,1000)\n",
    "    X_train, X_test, y_train, y_test = train_test_split(data_text, labels, test_size=0.33, random_state=num,shuffle = False)\n",
    "    X_train_reactions, X_test_reactions, _, _ = train_test_split(reactions_data, labels, test_size=0.33, random_state=num,shuffle = False)\n",
    "    bsize = 100\n",
    "    model = stacked_lstm(X_train,y_train,bsize,800,20)\n",
    "    length_train =int(len(X_train)/bsize)*bsize\n",
    "    length_test =int(len(X_test)/bsize)*bsize\n",
    "    model.fit([X_train_reactions[0:length_train],X_train[0:length_train]], np.array(y_train)[0:length_train], nb_epoch=15, batch_size=bsize)\n",
    "    loss,acc1 = model.evaluate([X_test_reactions[0:length_test],X_test[0:length_test]],y_test[0:length_test],batch_size=bsize)\n",
    "    accuracies.append(acc1)"
   ]
  },
  {
   "cell_type": "code",
   "execution_count": 15,
   "metadata": {},
   "outputs": [
    {
     "name": "stdout",
     "output_type": "stream",
     "text": [
      "0.7636842106517994\n",
      "0.012578835580956918\n",
      "[0.7726315824609054, 0.7652631621611746, 0.7400000001254835, 0.7757894616377982, 0.7647368468736347]\n"
     ]
    }
   ],
   "source": [
    "print(np.mean(accuracies))\n",
    "print(np.std(accuracies))\n",
    "print(accuracies)"
   ]
  },
  {
   "cell_type": "code",
   "execution_count": 16,
   "metadata": {
    "collapsed": true
   },
   "outputs": [],
   "source": [
    "####LSTM approach\n",
    "def conditioned_lstm(X_train,y_train,bsize,seq1_length,seq2_length):\n",
    "    length =int(len(X_train)/bsize)*bsize\n",
    "\n",
    "    inp1 = Input(batch_shape=(bsize,50,seq1_length),name='input1')\n",
    "    input1 = Permute((2,1))(inp1)\n",
    "    lstm1 = LSTM(30,input_shape=(50,seq1_length),stateful=False,batch_size=bsize,name='model1',return_state=True,recurrent_dropout=0.5)\n",
    "    encoder_outputs, state_h, state_c  = lstm1(input1)\n",
    "    \n",
    "    inp2 = Input(batch_shape=(bsize,50,seq2_length),name='input2')\n",
    "    input2 = Permute((2,1))(inp2)\n",
    "    lstm2 = LSTM(30,input_shape=(50,seq2_length),stateful=False,batch_size=bsize,name='model2',recurrent_dropout=0.5)\n",
    "    m2 = lstm2(input2,initial_state=[state_h, state_c])\n",
    "\n",
    "    merged = Dense(10)(m2)\n",
    "    reshaped2 = Dropout(0.5)(merged)\n",
    "    main_output = Dense(1, activation='sigmoid',name='main_output')(reshaped2)\n",
    "    model = Model(inputs=[inp1,inp2],outputs=[main_output])\n",
    "    model.compile(loss='binary_crossentropy', optimizer='adam', metrics=['accuracy'])\n",
    "    print(model.summary())\n",
    "    #model.fit([X_train[0:length]], np.array(y_train)[0:length], nb_epoch=40, batch_size=bsize)\n",
    "    return model"
   ]
  },
  {
   "cell_type": "code",
   "execution_count": 18,
   "metadata": {
    "scrolled": true
   },
   "outputs": [
    {
     "name": "stdout",
     "output_type": "stream",
     "text": [
      "__________________________________________________________________________________________________\n",
      "Layer (type)                    Output Shape         Param #     Connected to                     \n",
      "==================================================================================================\n",
      "input1 (InputLayer)             (100, 50, 800)       0                                            \n",
      "__________________________________________________________________________________________________\n",
      "input2 (InputLayer)             (100, 50, 20)        0                                            \n",
      "__________________________________________________________________________________________________\n",
      "permute_21 (Permute)            (100, 800, 50)       0           input1[0][0]                     \n",
      "__________________________________________________________________________________________________\n",
      "permute_22 (Permute)            (100, 20, 50)        0           input2[0][0]                     \n",
      "__________________________________________________________________________________________________\n",
      "model1 (LSTM)                   [(100, 30), (100, 30 9720        permute_21[0][0]                 \n",
      "__________________________________________________________________________________________________\n",
      "model2 (LSTM)                   (100, 30)            9720        permute_22[0][0]                 \n",
      "                                                                 model1[0][1]                     \n",
      "                                                                 model1[0][2]                     \n",
      "__________________________________________________________________________________________________\n",
      "dense_11 (Dense)                (100, 10)            310         model2[0][0]                     \n",
      "__________________________________________________________________________________________________\n",
      "dropout_11 (Dropout)            (100, 10)            0           dense_11[0][0]                   \n",
      "__________________________________________________________________________________________________\n",
      "main_output (Dense)             (100, 1)             11          dropout_11[0][0]                 \n",
      "==================================================================================================\n",
      "Total params: 19,761\n",
      "Trainable params: 19,761\n",
      "Non-trainable params: 0\n",
      "__________________________________________________________________________________________________\n",
      "None\n"
     ]
    },
    {
     "name": "stderr",
     "output_type": "stream",
     "text": [
      "/home/dell/.local/lib/python3.5/site-packages/ipykernel_launcher.py:12: UserWarning: The `nb_epoch` argument in `fit` has been renamed `epochs`.\n",
      "  if sys.path[0] == '':\n"
     ]
    },
    {
     "name": "stdout",
     "output_type": "stream",
     "text": [
      "Epoch 1/15\n",
      "3800/3800 [==============================] - 26s 7ms/step - loss: 0.6837 - acc: 0.5961\n",
      "Epoch 2/15\n",
      "3800/3800 [==============================] - 26s 7ms/step - loss: 0.6117 - acc: 0.6711\n",
      "Epoch 3/15\n",
      "3800/3800 [==============================] - 26s 7ms/step - loss: 0.5599 - acc: 0.7013\n",
      "Epoch 4/15\n",
      "3800/3800 [==============================] - 25s 7ms/step - loss: 0.5348 - acc: 0.7334\n",
      "Epoch 5/15\n",
      "3800/3800 [==============================] - 26s 7ms/step - loss: 0.5074 - acc: 0.7500\n",
      "Epoch 6/15\n",
      "3800/3800 [==============================] - 25s 7ms/step - loss: 0.5014 - acc: 0.7571\n",
      "Epoch 7/15\n",
      "3800/3800 [==============================] - 24s 6ms/step - loss: 0.4761 - acc: 0.7795\n",
      "Epoch 8/15\n",
      "3800/3800 [==============================] - 25s 7ms/step - loss: 0.4668 - acc: 0.7818\n",
      "Epoch 9/15\n",
      "3800/3800 [==============================] - 24s 6ms/step - loss: 0.4570 - acc: 0.7858\n",
      "Epoch 10/15\n",
      "3800/3800 [==============================] - 24s 6ms/step - loss: 0.4541 - acc: 0.7953\n",
      "Epoch 11/15\n",
      "3800/3800 [==============================] - 24s 6ms/step - loss: 0.4353 - acc: 0.7989\n",
      "Epoch 12/15\n",
      "3800/3800 [==============================] - 24s 6ms/step - loss: 0.4235 - acc: 0.8061\n",
      "Epoch 13/15\n",
      "3800/3800 [==============================] - 25s 6ms/step - loss: 0.4261 - acc: 0.8100\n",
      "Epoch 14/15\n",
      "3800/3800 [==============================] - 25s 7ms/step - loss: 0.4093 - acc: 0.8145\n",
      "Epoch 15/15\n",
      "3800/3800 [==============================] - 25s 7ms/step - loss: 0.4078 - acc: 0.8208\n",
      "1900/1900 [==============================] - 4s 2ms/step\n",
      "__________________________________________________________________________________________________\n",
      "Layer (type)                    Output Shape         Param #     Connected to                     \n",
      "==================================================================================================\n",
      "input1 (InputLayer)             (100, 50, 800)       0                                            \n",
      "__________________________________________________________________________________________________\n",
      "input2 (InputLayer)             (100, 50, 20)        0                                            \n",
      "__________________________________________________________________________________________________\n",
      "permute_23 (Permute)            (100, 800, 50)       0           input1[0][0]                     \n",
      "__________________________________________________________________________________________________\n",
      "permute_24 (Permute)            (100, 20, 50)        0           input2[0][0]                     \n",
      "__________________________________________________________________________________________________\n",
      "model1 (LSTM)                   [(100, 30), (100, 30 9720        permute_23[0][0]                 \n",
      "__________________________________________________________________________________________________\n",
      "model2 (LSTM)                   (100, 30)            9720        permute_24[0][0]                 \n",
      "                                                                 model1[0][1]                     \n",
      "                                                                 model1[0][2]                     \n",
      "__________________________________________________________________________________________________\n",
      "dense_12 (Dense)                (100, 10)            310         model2[0][0]                     \n",
      "__________________________________________________________________________________________________\n",
      "dropout_12 (Dropout)            (100, 10)            0           dense_12[0][0]                   \n",
      "__________________________________________________________________________________________________\n",
      "main_output (Dense)             (100, 1)             11          dropout_12[0][0]                 \n",
      "==================================================================================================\n",
      "Total params: 19,761\n",
      "Trainable params: 19,761\n",
      "Non-trainable params: 0\n",
      "__________________________________________________________________________________________________\n",
      "None\n",
      "Epoch 1/15\n",
      "3800/3800 [==============================] - 26s 7ms/step - loss: 0.6746 - acc: 0.6100\n",
      "Epoch 2/15\n",
      "3800/3800 [==============================] - 24s 6ms/step - loss: 0.6092 - acc: 0.6768\n",
      "Epoch 3/15\n",
      "3800/3800 [==============================] - 24s 6ms/step - loss: 0.5528 - acc: 0.7263\n",
      "Epoch 4/15\n",
      "3800/3800 [==============================] - 24s 6ms/step - loss: 0.5186 - acc: 0.7416\n",
      "Epoch 5/15\n",
      "3800/3800 [==============================] - 24s 6ms/step - loss: 0.4994 - acc: 0.7624\n",
      "Epoch 6/15\n",
      "3800/3800 [==============================] - 25s 7ms/step - loss: 0.4857 - acc: 0.7658\n",
      "Epoch 7/15\n",
      "3800/3800 [==============================] - 25s 7ms/step - loss: 0.4779 - acc: 0.7761\n",
      "Epoch 8/15\n",
      "3800/3800 [==============================] - 26s 7ms/step - loss: 0.4672 - acc: 0.7800\n",
      "Epoch 9/15\n",
      "3800/3800 [==============================] - 26s 7ms/step - loss: 0.4605 - acc: 0.7847\n",
      "Epoch 10/15\n",
      "3800/3800 [==============================] - 25s 7ms/step - loss: 0.4479 - acc: 0.7871\n",
      "Epoch 11/15\n",
      "3800/3800 [==============================] - 25s 7ms/step - loss: 0.4362 - acc: 0.7953\n",
      "Epoch 12/15\n",
      "3800/3800 [==============================] - 25s 7ms/step - loss: 0.4327 - acc: 0.7995\n",
      "Epoch 13/15\n",
      "3800/3800 [==============================] - 25s 7ms/step - loss: 0.4231 - acc: 0.8124\n",
      "Epoch 14/15\n",
      "3800/3800 [==============================] - 25s 6ms/step - loss: 0.4173 - acc: 0.8076\n",
      "Epoch 15/15\n",
      "3800/3800 [==============================] - 25s 7ms/step - loss: 0.4124 - acc: 0.8182\n",
      "1900/1900 [==============================] - 4s 2ms/step\n",
      "__________________________________________________________________________________________________\n",
      "Layer (type)                    Output Shape         Param #     Connected to                     \n",
      "==================================================================================================\n",
      "input1 (InputLayer)             (100, 50, 800)       0                                            \n",
      "__________________________________________________________________________________________________\n",
      "input2 (InputLayer)             (100, 50, 20)        0                                            \n",
      "__________________________________________________________________________________________________\n",
      "permute_25 (Permute)            (100, 800, 50)       0           input1[0][0]                     \n",
      "__________________________________________________________________________________________________\n",
      "permute_26 (Permute)            (100, 20, 50)        0           input2[0][0]                     \n",
      "__________________________________________________________________________________________________\n",
      "model1 (LSTM)                   [(100, 30), (100, 30 9720        permute_25[0][0]                 \n",
      "__________________________________________________________________________________________________\n",
      "model2 (LSTM)                   (100, 30)            9720        permute_26[0][0]                 \n",
      "                                                                 model1[0][1]                     \n",
      "                                                                 model1[0][2]                     \n",
      "__________________________________________________________________________________________________\n",
      "dense_13 (Dense)                (100, 10)            310         model2[0][0]                     \n",
      "__________________________________________________________________________________________________\n",
      "dropout_13 (Dropout)            (100, 10)            0           dense_13[0][0]                   \n",
      "__________________________________________________________________________________________________\n",
      "main_output (Dense)             (100, 1)             11          dropout_13[0][0]                 \n",
      "==================================================================================================\n",
      "Total params: 19,761\n",
      "Trainable params: 19,761\n",
      "Non-trainable params: 0\n",
      "__________________________________________________________________________________________________\n",
      "None\n",
      "Epoch 1/15\n",
      "3800/3800 [==============================] - 25s 6ms/step - loss: 0.6406 - acc: 0.6474\n",
      "Epoch 2/15\n",
      "3800/3800 [==============================] - 22s 6ms/step - loss: 0.5871 - acc: 0.6861\n",
      "Epoch 3/15\n",
      "3800/3800 [==============================] - 22s 6ms/step - loss: 0.5435 - acc: 0.7232\n",
      "Epoch 4/15\n",
      "3800/3800 [==============================] - 22s 6ms/step - loss: 0.5226 - acc: 0.7332\n",
      "Epoch 5/15\n",
      "3800/3800 [==============================] - 22s 6ms/step - loss: 0.5123 - acc: 0.7539\n",
      "Epoch 6/15\n",
      "3800/3800 [==============================] - 22s 6ms/step - loss: 0.4855 - acc: 0.7597\n",
      "Epoch 7/15\n",
      "3800/3800 [==============================] - 22s 6ms/step - loss: 0.4735 - acc: 0.7763\n",
      "Epoch 8/15\n",
      "3800/3800 [==============================] - 22s 6ms/step - loss: 0.4658 - acc: 0.7761\n",
      "Epoch 9/15\n",
      "3800/3800 [==============================] - 22s 6ms/step - loss: 0.4513 - acc: 0.7858\n",
      "Epoch 10/15\n",
      "3800/3800 [==============================] - 22s 6ms/step - loss: 0.4547 - acc: 0.7916\n",
      "Epoch 11/15\n",
      "3800/3800 [==============================] - 22s 6ms/step - loss: 0.4433 - acc: 0.7997\n",
      "Epoch 12/15\n",
      "3800/3800 [==============================] - 22s 6ms/step - loss: 0.4350 - acc: 0.7961\n",
      "Epoch 13/15\n",
      "3800/3800 [==============================] - 22s 6ms/step - loss: 0.4177 - acc: 0.8124\n",
      "Epoch 14/15\n",
      "3800/3800 [==============================] - 22s 6ms/step - loss: 0.4135 - acc: 0.8124\n",
      "Epoch 15/15\n",
      "3800/3800 [==============================] - 22s 6ms/step - loss: 0.4096 - acc: 0.8158\n",
      "1900/1900 [==============================] - 4s 2ms/step\n",
      "__________________________________________________________________________________________________\n",
      "Layer (type)                    Output Shape         Param #     Connected to                     \n",
      "==================================================================================================\n",
      "input1 (InputLayer)             (100, 50, 800)       0                                            \n",
      "__________________________________________________________________________________________________\n",
      "input2 (InputLayer)             (100, 50, 20)        0                                            \n",
      "__________________________________________________________________________________________________\n",
      "permute_27 (Permute)            (100, 800, 50)       0           input1[0][0]                     \n",
      "__________________________________________________________________________________________________\n",
      "permute_28 (Permute)            (100, 20, 50)        0           input2[0][0]                     \n",
      "__________________________________________________________________________________________________\n",
      "model1 (LSTM)                   [(100, 30), (100, 30 9720        permute_27[0][0]                 \n",
      "__________________________________________________________________________________________________\n",
      "model2 (LSTM)                   (100, 30)            9720        permute_28[0][0]                 \n",
      "                                                                 model1[0][1]                     \n",
      "                                                                 model1[0][2]                     \n",
      "__________________________________________________________________________________________________\n",
      "dense_14 (Dense)                (100, 10)            310         model2[0][0]                     \n",
      "__________________________________________________________________________________________________\n",
      "dropout_14 (Dropout)            (100, 10)            0           dense_14[0][0]                   \n",
      "__________________________________________________________________________________________________\n",
      "main_output (Dense)             (100, 1)             11          dropout_14[0][0]                 \n",
      "==================================================================================================\n",
      "Total params: 19,761\n",
      "Trainable params: 19,761\n",
      "Non-trainable params: 0\n",
      "__________________________________________________________________________________________________\n",
      "None\n",
      "Epoch 1/15\n",
      "3800/3800 [==============================] - 24s 6ms/step - loss: 0.6472 - acc: 0.6379\n",
      "Epoch 2/15\n",
      "3800/3800 [==============================] - 23s 6ms/step - loss: 0.5956 - acc: 0.6895\n",
      "Epoch 3/15\n",
      "3800/3800 [==============================] - 22s 6ms/step - loss: 0.5452 - acc: 0.7192\n",
      "Epoch 4/15\n",
      "3800/3800 [==============================] - 22s 6ms/step - loss: 0.5102 - acc: 0.7497\n",
      "Epoch 5/15\n",
      "3800/3800 [==============================] - 23s 6ms/step - loss: 0.5074 - acc: 0.7568\n",
      "Epoch 6/15\n",
      "3800/3800 [==============================] - 22s 6ms/step - loss: 0.4970 - acc: 0.7584\n",
      "Epoch 7/15\n",
      "3800/3800 [==============================] - 23s 6ms/step - loss: 0.4770 - acc: 0.7716\n",
      "Epoch 8/15\n",
      "3800/3800 [==============================] - 23s 6ms/step - loss: 0.4641 - acc: 0.7855\n",
      "Epoch 9/15\n",
      "3800/3800 [==============================] - 22s 6ms/step - loss: 0.4579 - acc: 0.7855\n",
      "Epoch 10/15\n",
      "3800/3800 [==============================] - 23s 6ms/step - loss: 0.4537 - acc: 0.7971\n",
      "Epoch 11/15\n",
      "3800/3800 [==============================] - 22s 6ms/step - loss: 0.4376 - acc: 0.7955\n",
      "Epoch 12/15\n",
      "3800/3800 [==============================] - 23s 6ms/step - loss: 0.4417 - acc: 0.7974\n",
      "Epoch 13/15\n",
      "3800/3800 [==============================] - 23s 6ms/step - loss: 0.4309 - acc: 0.8084\n",
      "Epoch 14/15\n",
      "3800/3800 [==============================] - 24s 6ms/step - loss: 0.4146 - acc: 0.8137\n",
      "Epoch 15/15\n",
      "3800/3800 [==============================] - 29s 8ms/step - loss: 0.4119 - acc: 0.8174\n",
      "1900/1900 [==============================] - 4s 2ms/step\n",
      "__________________________________________________________________________________________________\n",
      "Layer (type)                    Output Shape         Param #     Connected to                     \n",
      "==================================================================================================\n",
      "input1 (InputLayer)             (100, 50, 800)       0                                            \n",
      "__________________________________________________________________________________________________\n",
      "input2 (InputLayer)             (100, 50, 20)        0                                            \n",
      "__________________________________________________________________________________________________\n",
      "permute_29 (Permute)            (100, 800, 50)       0           input1[0][0]                     \n",
      "__________________________________________________________________________________________________\n",
      "permute_30 (Permute)            (100, 20, 50)        0           input2[0][0]                     \n",
      "__________________________________________________________________________________________________\n",
      "model1 (LSTM)                   [(100, 30), (100, 30 9720        permute_29[0][0]                 \n",
      "__________________________________________________________________________________________________\n",
      "model2 (LSTM)                   (100, 30)            9720        permute_30[0][0]                 \n",
      "                                                                 model1[0][1]                     \n",
      "                                                                 model1[0][2]                     \n",
      "__________________________________________________________________________________________________\n",
      "dense_15 (Dense)                (100, 10)            310         model2[0][0]                     \n",
      "__________________________________________________________________________________________________\n",
      "dropout_15 (Dropout)            (100, 10)            0           dense_15[0][0]                   \n",
      "__________________________________________________________________________________________________\n",
      "main_output (Dense)             (100, 1)             11          dropout_15[0][0]                 \n",
      "==================================================================================================\n",
      "Total params: 19,761\n",
      "Trainable params: 19,761\n",
      "Non-trainable params: 0\n",
      "__________________________________________________________________________________________________\n",
      "None\n",
      "Epoch 1/15\n",
      "3800/3800 [==============================] - 25s 7ms/step - loss: 0.6718 - acc: 0.6121\n",
      "Epoch 2/15\n",
      "3800/3800 [==============================] - 22s 6ms/step - loss: 0.6234 - acc: 0.6597\n",
      "Epoch 3/15\n",
      "3800/3800 [==============================] - 22s 6ms/step - loss: 0.5773 - acc: 0.6932\n",
      "Epoch 4/15\n",
      "3800/3800 [==============================] - 22s 6ms/step - loss: 0.5333 - acc: 0.7329\n",
      "Epoch 5/15\n"
     ]
    },
    {
     "name": "stdout",
     "output_type": "stream",
     "text": [
      "3800/3800 [==============================] - 22s 6ms/step - loss: 0.5128 - acc: 0.7458\n",
      "Epoch 6/15\n",
      "3800/3800 [==============================] - 22s 6ms/step - loss: 0.4988 - acc: 0.7576\n",
      "Epoch 7/15\n",
      "3800/3800 [==============================] - 22s 6ms/step - loss: 0.4803 - acc: 0.7687\n",
      "Epoch 8/15\n",
      "3800/3800 [==============================] - 22s 6ms/step - loss: 0.4764 - acc: 0.7768\n",
      "Epoch 9/15\n",
      "3800/3800 [==============================] - 22s 6ms/step - loss: 0.4626 - acc: 0.7824\n",
      "Epoch 10/15\n",
      "3800/3800 [==============================] - 22s 6ms/step - loss: 0.4641 - acc: 0.7813\n",
      "Epoch 11/15\n",
      "3800/3800 [==============================] - 22s 6ms/step - loss: 0.4450 - acc: 0.7958\n",
      "Epoch 12/15\n",
      "3800/3800 [==============================] - 22s 6ms/step - loss: 0.4385 - acc: 0.7979\n",
      "Epoch 13/15\n",
      "3800/3800 [==============================] - 22s 6ms/step - loss: 0.4260 - acc: 0.8047\n",
      "Epoch 14/15\n",
      "3800/3800 [==============================] - 22s 6ms/step - loss: 0.4146 - acc: 0.8158\n",
      "Epoch 15/15\n",
      "3800/3800 [==============================] - 22s 6ms/step - loss: 0.4093 - acc: 0.8082\n",
      "1900/1900 [==============================] - 4s 2ms/step\n"
     ]
    }
   ],
   "source": [
    "accuracies = []\n",
    "K = 5\n",
    "for i in range(K):\n",
    "    labels = df_text['rumour_bool']\n",
    "    num = np.random.randint(10,1000)\n",
    "    X_train, X_test, y_train, y_test = train_test_split(data_text, labels, test_size=0.33, random_state=num,shuffle = False)\n",
    "    X_train_reactions, X_test_reactions, _, _ = train_test_split(reactions_data, labels, test_size=0.33, random_state=num,shuffle = False)\n",
    "    bsize = 100\n",
    "    model = conditioned_lstm(X_train,y_train,bsize,800,20)\n",
    "    length_train =int(len(X_train)/bsize)*bsize\n",
    "    length_test =int(len(X_test)/bsize)*bsize\n",
    "    model.fit([X_train_reactions[0:length_train],X_train[0:length_train]], np.array(y_train)[0:length_train], nb_epoch=15, batch_size=bsize)\n",
    "    loss,acc1 = model.evaluate([X_test_reactions[0:length_test],X_test[0:length_test]],y_test[0:length_test],batch_size=bsize)\n",
    "    accuracies.append(acc1)"
   ]
  },
  {
   "cell_type": "code",
   "execution_count": 14,
   "metadata": {},
   "outputs": [
    {
     "name": "stdout",
     "output_type": "stream",
     "text": [
      "0.7642105265667564\n",
      "0.006821832730409259\n",
      "[0.7573684234368173, 0.7689473754481265, 0.7752631557615179, 0.7605263088878832, 0.7589473692994368]\n"
     ]
    }
   ],
   "source": [
    "print(np.mean(accuracies))\n",
    "print(np.std(accuracies))\n",
    "print(accuracies)"
   ]
  },
  {
   "cell_type": "code",
   "execution_count": 138,
   "metadata": {
    "collapsed": true
   },
   "outputs": [],
   "source": []
  },
  {
   "cell_type": "code",
   "execution_count": null,
   "metadata": {
    "collapsed": true
   },
   "outputs": [],
   "source": []
  },
  {
   "cell_type": "code",
   "execution_count": null,
   "metadata": {
    "collapsed": true
   },
   "outputs": [],
   "source": []
  },
  {
   "cell_type": "code",
   "execution_count": null,
   "metadata": {
    "collapsed": true
   },
   "outputs": [],
   "source": []
  },
  {
   "cell_type": "code",
   "execution_count": 142,
   "metadata": {
    "collapsed": true
   },
   "outputs": [],
   "source": []
  },
  {
   "cell_type": "code",
   "execution_count": 143,
   "metadata": {
    "collapsed": true
   },
   "outputs": [],
   "source": []
  },
  {
   "cell_type": "code",
   "execution_count": 144,
   "metadata": {
    "collapsed": true
   },
   "outputs": [],
   "source": [
    "# clf = RandomForestClassifier(max_depth=2)\n",
    "# X_train, X_test, y_train, y_test = train_test_split(df, actual_labels, test_size=0.33, random_state=42)"
   ]
  },
  {
   "cell_type": "code",
   "execution_count": 163,
   "metadata": {
    "collapsed": true
   },
   "outputs": [],
   "source": [
    "# clf.fit(X_train, y_train)\n",
    "# pred = clf.predict(X_test)\n",
    "# print(accuracy_score(pred,y_test))"
   ]
  },
  {
   "cell_type": "code",
   "execution_count": 146,
   "metadata": {
    "collapsed": true
   },
   "outputs": [],
   "source": [
    "####next attempt"
   ]
  },
  {
   "cell_type": "code",
   "execution_count": null,
   "metadata": {
    "collapsed": true
   },
   "outputs": [],
   "source": []
  },
  {
   "cell_type": "code",
   "execution_count": null,
   "metadata": {
    "collapsed": true
   },
   "outputs": [],
   "source": []
  },
  {
   "cell_type": "code",
   "execution_count": null,
   "metadata": {
    "collapsed": true
   },
   "outputs": [],
   "source": []
  },
  {
   "cell_type": "code",
   "execution_count": null,
   "metadata": {
    "collapsed": true
   },
   "outputs": [],
   "source": []
  },
  {
   "cell_type": "code",
   "execution_count": null,
   "metadata": {
    "collapsed": true
   },
   "outputs": [],
   "source": []
  },
  {
   "cell_type": "code",
   "execution_count": 27,
   "metadata": {
    "collapsed": true
   },
   "outputs": [],
   "source": []
  },
  {
   "cell_type": "code",
   "execution_count": null,
   "metadata": {
    "collapsed": true
   },
   "outputs": [],
   "source": []
  },
  {
   "cell_type": "code",
   "execution_count": null,
   "metadata": {
    "collapsed": true
   },
   "outputs": [],
   "source": []
  },
  {
   "cell_type": "code",
   "execution_count": 152,
   "metadata": {
    "collapsed": true
   },
   "outputs": [],
   "source": []
  },
  {
   "cell_type": "code",
   "execution_count": null,
   "metadata": {
    "collapsed": true
   },
   "outputs": [],
   "source": []
  },
  {
   "cell_type": "code",
   "execution_count": null,
   "metadata": {
    "collapsed": true
   },
   "outputs": [],
   "source": []
  },
  {
   "cell_type": "code",
   "execution_count": null,
   "metadata": {
    "collapsed": true
   },
   "outputs": [],
   "source": []
  },
  {
   "cell_type": "code",
   "execution_count": null,
   "metadata": {
    "collapsed": true
   },
   "outputs": [],
   "source": []
  },
  {
   "cell_type": "code",
   "execution_count": null,
   "metadata": {
    "collapsed": true
   },
   "outputs": [],
   "source": []
  },
  {
   "cell_type": "code",
   "execution_count": null,
   "metadata": {
    "collapsed": true
   },
   "outputs": [],
   "source": []
  },
  {
   "cell_type": "code",
   "execution_count": null,
   "metadata": {
    "collapsed": true
   },
   "outputs": [],
   "source": []
  },
  {
   "cell_type": "code",
   "execution_count": null,
   "metadata": {
    "collapsed": true
   },
   "outputs": [],
   "source": []
  },
  {
   "cell_type": "code",
   "execution_count": null,
   "metadata": {
    "collapsed": true
   },
   "outputs": [],
   "source": []
  },
  {
   "cell_type": "code",
   "execution_count": null,
   "metadata": {
    "collapsed": true
   },
   "outputs": [],
   "source": []
  },
  {
   "cell_type": "code",
   "execution_count": null,
   "metadata": {
    "collapsed": true
   },
   "outputs": [],
   "source": []
  },
  {
   "cell_type": "code",
   "execution_count": null,
   "metadata": {
    "collapsed": true
   },
   "outputs": [],
   "source": []
  },
  {
   "cell_type": "code",
   "execution_count": null,
   "metadata": {
    "collapsed": true
   },
   "outputs": [],
   "source": []
  },
  {
   "cell_type": "code",
   "execution_count": null,
   "metadata": {
    "collapsed": true
   },
   "outputs": [],
   "source": []
  }
 ],
 "metadata": {
  "kernelspec": {
   "display_name": "Python 3",
   "language": "python",
   "name": "python3"
  },
  "language_info": {
   "codemirror_mode": {
    "name": "ipython",
    "version": 3
   },
   "file_extension": ".py",
   "mimetype": "text/x-python",
   "name": "python",
   "nbconvert_exporter": "python",
   "pygments_lexer": "ipython3",
   "version": "3.5.2"
  }
 },
 "nbformat": 4,
 "nbformat_minor": 2
}
